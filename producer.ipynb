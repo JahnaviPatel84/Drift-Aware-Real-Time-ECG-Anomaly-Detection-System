{
 "cells": [
  {
   "cell_type": "code",
   "execution_count": 1,
   "id": "c54405cc-0a2e-44b7-bb59-429397459dd1",
   "metadata": {},
   "outputs": [],
   "source": [
    "# pip install wfdb pandas"
   ]
  },
  {
   "cell_type": "code",
   "execution_count": 2,
   "id": "3619ed14-0ce9-41b3-afaa-80d6737ab48f",
   "metadata": {},
   "outputs": [
    {
     "name": "stdout",
     "output_type": "stream",
     "text": [
      "ECG CSV saved as ecg_stream_sample.csv\n",
      "   timestamp   ECG1   ECG2\n",
      "0   0.000000 -0.165 -0.325\n",
      "1   0.007812 -0.155 -0.325\n",
      "2   0.015625 -0.195 -0.305\n",
      "3   0.023438 -0.205 -0.305\n",
      "4   0.031250 -0.185 -0.295\n"
     ]
    }
   ],
   "source": [
    "import wfdb\n",
    "import pandas as pd\n",
    "import os\n",
    "\n",
    "# Set working directory\n",
    "data_path = \"Database/16265\"  # or just \"Database\" if files are directly there\n",
    "\n",
    "# Read 30,000 samples from 16265\n",
    "record = wfdb.rdrecord(os.path.join(\"Database\", \"16265\"), sampto=30000)\n",
    "\n",
    "# Create DataFrame\n",
    "df = pd.DataFrame(record.p_signal, columns=[\"ECG1\", \"ECG2\"])\n",
    "df[\"timestamp\"] = df.index / record.fs  # convert sample index to seconds\n",
    "\n",
    "# Reorder columns\n",
    "df = df[[\"timestamp\", \"ECG1\", \"ECG2\"]]\n",
    "\n",
    "# Save to CSV\n",
    "df.to_csv(\"ecg_stream_sample.csv\", index=False)\n",
    "print(\"ECG CSV saved as ecg_stream_sample.csv\")\n",
    "print(df.head())"
   ]
  },
  {
   "cell_type": "code",
   "execution_count": 3,
   "id": "b963eb01-20bc-42ea-8d28-8300e19d3c55",
   "metadata": {},
   "outputs": [
    {
     "name": "stdout",
     "output_type": "stream",
     "text": [
      "Training Isolation Forest model...\n",
      "Model saved to: models/model_v1.pkl\n"
     ]
    }
   ],
   "source": [
    "import pandas as pd\n",
    "from sklearn.ensemble import IsolationForest\n",
    "import joblib\n",
    "import os\n",
    "\n",
    "os.makedirs(\"models\", exist_ok=True)\n",
    "\n",
    "# Load the ECG dataset\n",
    "df = pd.read_csv(\"ecg_stream_sample.csv\")\n",
    "\n",
    "# Select only ECG features for modeling\n",
    "X = df[[\"ECG1\", \"ECG2\"]]\n",
    "\n",
    "# Train the Isolation Forest model\n",
    "print(\"Training Isolation Forest model...\")\n",
    "model = IsolationForest(contamination=0.01, random_state=42)\n",
    "model.fit(X)\n",
    "\n",
    "# Save the model\n",
    "model_path = \"models/model_v1.pkl\"\n",
    "joblib.dump(model, model_path)\n",
    "print(f\"Model saved to: {model_path}\")"
   ]
  },
  {
   "cell_type": "code",
   "execution_count": 6,
   "id": "fd6d9815-c6da-4ead-8961-7d6f9f03f520",
   "metadata": {},
   "outputs": [
    {
     "name": "stdout",
     "output_type": "stream",
     "text": [
      "Streaming ECG data to Kafka topic: 'ecg_stream'...\n",
      "Streaming complete.\n"
     ]
    }
   ],
   "source": [
    "import pandas as pd\n",
    "from kafka import KafkaProducer\n",
    "import json\n",
    "import time\n",
    "\n",
    "# Load ECG data\n",
    "df = pd.read_csv(\"ecg_stream_sample.csv\")\n",
    "\n",
    "# Initialize Kafka Producer\n",
    "producer = KafkaProducer(\n",
    "    bootstrap_servers='localhost:9092',\n",
    "    value_serializer=lambda v: json.dumps(v).encode('utf-8')\n",
    ")\n",
    "\n",
    "print(\"Streaming ECG data to Kafka topic: 'ecg_stream'...\")\n",
    "\n",
    "# Stream each row as a JSON message\n",
    "for _, row in df.iterrows():\n",
    "    message = {\n",
    "        \"timestamp\": row[\"timestamp\"],\n",
    "        \"ECG1\": row[\"ECG1\"],\n",
    "        \"ECG2\": row[\"ECG2\"]\n",
    "    }\n",
    "    producer.send(\"ecg_stream\", value=message)\n",
    "    time.sleep(0.05)  # simulate ~20Hz streaming\n",
    "\n",
    "print(\"Streaming complete.\")"
   ]
  },
  {
   "cell_type": "code",
   "execution_count": null,
   "id": "f2ea7b24-e66f-44b0-b16f-889279db0143",
   "metadata": {},
   "outputs": [],
   "source": []
  }
 ],
 "metadata": {
  "kernelspec": {
   "display_name": "Python 3 (ipykernel)",
   "language": "python",
   "name": "python3"
  },
  "language_info": {
   "codemirror_mode": {
    "name": "ipython",
    "version": 3
   },
   "file_extension": ".py",
   "mimetype": "text/x-python",
   "name": "python",
   "nbconvert_exporter": "python",
   "pygments_lexer": "ipython3",
   "version": "3.12.4"
  }
 },
 "nbformat": 4,
 "nbformat_minor": 5
}
